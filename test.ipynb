{
 "cells": [
  {
   "cell_type": "code",
   "execution_count": 3,
   "metadata": {},
   "outputs": [],
   "source": [
    "import openai\n",
    "from tools.llm import ChatGpt"
   ]
  },
  {
   "cell_type": "code",
   "execution_count": 4,
   "metadata": {},
   "outputs": [],
   "source": [
    "model_name = \"gpt-3.5-turbo-0613\"\n",
    "api_key = \"sk-***\"\n",
    "model = ChatGpt(model=model_name, api_key=api_key)\n",
    "model.rateLimit = {\"RPM\":200}\n",
    "model.temperature = 0"
   ]
  },
  {
   "cell_type": "code",
   "execution_count": 18,
   "metadata": {},
   "outputs": [
    {
     "name": "stdout",
     "output_type": "stream",
     "text": [
      "Core Question: How much money is left in Ronnie's money?\n",
      "\n",
      "Useful Info:\n",
      "- Ronnie was given $5.\n",
      "- Rissa was given thrice as much as Ronnie.\n",
      "- After giving an equal amount of money to their little sister, Rissa is left with 4/5 of her money.\n",
      "\n",
      "Reason Steps:\n",
      "1. Ronnie was given $5.\n",
      "2. Rissa was given thrice as much as Ronnie, so Rissa was given $5 * 3 = $15.\n",
      "3. After giving an equal amount of money to their little sister, Rissa is left with 4/5 of her money. Let's assume Rissa gave x dollars to their little sister.\n",
      "4. Rissa had $15 - x dollars left.\n",
      "5. Since Rissa is left with 4/5 of her money, we can set up the equation: $15 - x = (4/5) * $15.\n",
      "6. Solving the equation, we find that x = $15 - (4/5) * $15 = $15 - $12 = $3.\n",
      "7. Rissa gave $3 to their little sister.\n",
      "8. Ronnie and Rissa both gave $3 to their little sister, so Ronnie is left with $5 - $3 = $2.\n",
      "\n",
      "Output Json:\n",
      "{\n",
      "  \"final_answer\": 2\n",
      "}\n"
     ]
    }
   ],
   "source": [
    "question = \"Ronnie was given $5 while Rissa was given thrice as much. After each of them had given an equal amount of money to their little sister, Rissa is left with 4/5 of her money. How much is left in Ronnie's money?\"\n",
    "core_question_prompt = \"Please extract core question, only the most comprehensive and detailed one!\"\n",
    "use_info_prompt = \"Note: Please extract the most useful information related to the core question xxx, only extract the most useful information, and list them one by one!\"\n",
    "\n",
    "\n",
    "prompt = f\"\"\"\n",
    "Perform the following actions:\n",
    "1 - Extract core question from following question delimited by triple backticks with 1 sentence, only the most comprehensive and detailed one!\n",
    "2 - Extract the the most useful information related to the core question from the same question delimited by triple backticks and list them one by one!\n",
    "3 - Answer of the question delimited by triple backticks with fully and comprehensively considering the core question and useful information. \\\n",
    "Make sure resolve these custom variables used in the reasoning process.\n",
    "4 - Output a json object that contains the following keys: final_answer:<int|float>\n",
    "\n",
    "Use the following format:\n",
    "Text: <question to answer>\n",
    "Core Question: <extracted core question>\n",
    "Useful Info: <extracted useful information, listed one by one>\n",
    "Reason Steps: <the reasoning steps to get the final answer>\n",
    "Output Json: <json with the final answer>\n",
    "\n",
    "Text: ```{question}```\n",
    "\"\"\"\n",
    "response = model.generate(prompt)\n",
    "print(response)"
   ]
  },
  {
   "cell_type": "code",
   "execution_count": 12,
   "metadata": {},
   "outputs": [
    {
     "name": "stdout",
     "output_type": "stream",
     "text": [
      "\n",
      "Perform the following actions:\n",
      "1 - Extract core question from following question delimited by triple backticks with 1 sentence, only the most comprehensive and detailed's one!\n",
      "2 - Extract the the most useful information related to the core question from the same question delimited by triple backticks and list them one by one!\n",
      "3 - Reasoning the answer of the question delimited by triple backticks with fully and comprehensively considering the core question and useful information. If you use custom variables, such as x or y, during inference, make sure these unknowns will be resolved to get the final answer.\n",
      "4 - Output a json object that contains the following keys: final_answer:<int|float|set|math expression>\n",
      "\n",
      "Use the following format:\n",
      "Text: <question to answer>\n",
      "Core Question: <extracted core question>\n",
      "Useful Info: <extracted useful information, listed one by one>\n",
      "Reason Steps: <the reasoning steps to get the final answer>\n",
      "Output Json: <json with the final answer>\n",
      "\n",
      "Text: ```Ronnie was given $5 while Rissa was given thrice as much. After each of them had given an equal amount of money to their little sister, Rissa is left with 4/5 of her money. How much is left in Ronnie's money?```\n",
      "\n"
     ]
    }
   ],
   "source": [
    "print(prompt)"
   ]
  }
 ],
 "metadata": {
  "kernelspec": {
   "display_name": "openai",
   "language": "python",
   "name": "python3"
  },
  "language_info": {
   "codemirror_mode": {
    "name": "ipython",
    "version": 3
   },
   "file_extension": ".py",
   "mimetype": "text/x-python",
   "name": "python",
   "nbconvert_exporter": "python",
   "pygments_lexer": "ipython3",
   "version": "3.11.3"
  },
  "orig_nbformat": 4
 },
 "nbformat": 4,
 "nbformat_minor": 2
}
